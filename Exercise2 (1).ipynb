{
  "cells": [
    {
      "cell_type": "markdown",
      "metadata": {
        "id": "view-in-github"
      },
      "source": [
        "<a href=\"https://colab.research.google.com/github/robitussin/CCADMACL_EXERCISES/blob/main/Exercise2.ipynb\" target=\"_parent\"><img src=\"https://colab.research.google.com/assets/colab-badge.svg\" alt=\"Open In Colab\"/></a>"
      ]
    },
    {
      "cell_type": "markdown",
      "source": [
        "## Exercise 2: Use Gradient Boost for Regression\n",
        "\n",
        "Instructions:\n",
        "\n",
        "- Use the Dataset File to train your model\n",
        "- Use the Test File to generate your results\n",
        "- Use the Sample Submission file to generate the same format\n",
        "Submit your results to:\n",
        "https://www.kaggle.com/competitions/playground-series-s4e12/overview\n",
        "\n"
      ],
      "metadata": {
        "id": "99_2rPCJrNfK"
      }
    },
    {
      "cell_type": "code",
      "execution_count": 271,
      "metadata": {
        "id": "R_se3V8gftVL",
        "colab": {
          "base_uri": "https://localhost:8080/"
        },
        "outputId": "4d210132-8e4a-449f-918d-3a82567e45f6"
      },
      "outputs": [
        {
          "output_type": "stream",
          "name": "stdout",
          "text": [
            "Requirement already satisfied: xgboost in /usr/local/lib/python3.10/dist-packages (2.1.2)\n",
            "Requirement already satisfied: numpy in /usr/local/lib/python3.10/dist-packages (from xgboost) (1.26.4)\n",
            "Requirement already satisfied: nvidia-nccl-cu12 in /usr/local/lib/python3.10/dist-packages (from xgboost) (2.23.4)\n",
            "Requirement already satisfied: scipy in /usr/local/lib/python3.10/dist-packages (from xgboost) (1.13.1)\n"
          ]
        }
      ],
      "source": [
        "!pip install --user xgboost"
      ]
    },
    {
      "cell_type": "code",
      "source": [
        "import seaborn as sns\n",
        "import pandas as pd\n",
        "import numpy as np\n",
        "import matplotlib.pyplot as plt\n",
        "import warnings\n",
        "from sklearn.model_selection import train_test_split\n",
        "import xgboost as xgb\n",
        "from sklearn.metrics import root_mean_squared_log_error\n",
        "\n",
        "from sklearn.preprocessing import StandardScaler, OneHotEncoder\n",
        "from sklearn.impute import SimpleImputer\n",
        "warnings.filterwarnings(\"ignore\")"
      ],
      "metadata": {
        "id": "wYcw892n12Di"
      },
      "execution_count": 272,
      "outputs": []
    },
    {
      "cell_type": "markdown",
      "metadata": {
        "id": "eCNNEXIhftVN"
      },
      "source": [
        "## Dataset\n",
        "Train, test and sample submission file can be found in this link\n",
        "https://www.kaggle.com/competitions/playground-series-s4e12/data"
      ]
    },
    {
      "cell_type": "markdown",
      "source": [
        "## 1. Load the Data"
      ],
      "metadata": {
        "id": "rjhN8ODcVYxH"
      }
    },
    {
      "cell_type": "code",
      "source": [
        "from google.colab import drive\n",
        "drive.mount('/content/drive')"
      ],
      "metadata": {
        "colab": {
          "base_uri": "https://localhost:8080/"
        },
        "id": "Fk6vZksT16lI",
        "outputId": "26cc7184-348e-4330-f06a-5ce491144e6c"
      },
      "execution_count": 273,
      "outputs": [
        {
          "output_type": "stream",
          "name": "stdout",
          "text": [
            "Drive already mounted at /content/drive; to attempt to forcibly remount, call drive.mount(\"/content/drive\", force_remount=True).\n"
          ]
        }
      ]
    },
    {
      "cell_type": "code",
      "source": [
        "test_data = pd.read_csv('/content/drive/MyDrive/Regression with an Insurance Dataset/test.csv')\n",
        "train_data = pd.read_csv('/content/drive/MyDrive/Regression with an Insurance Dataset/train.csv')"
      ],
      "metadata": {
        "id": "tEcU-yJmVZwR"
      },
      "execution_count": 274,
      "outputs": []
    },
    {
      "cell_type": "markdown",
      "source": [
        "## 2. Perform Data preprocessing"
      ],
      "metadata": {
        "id": "GlMLKDF_rvUM"
      }
    },
    {
      "cell_type": "code",
      "source": [
        "for column in train_data.columns:\n",
        "    unique_values = train_data[column].unique()\n",
        "    if column == \"Credit Score\" or column == \"id\":\n",
        "        continue\n",
        "    print(f\"Column: {column}\")\n",
        "    print(f\"Number of Unique Values: {len(unique_values)}\")\n",
        "    print(f\"Unique Values: {unique_values}\\n\")"
      ],
      "metadata": {
        "id": "0MJX8VBysFxR",
        "colab": {
          "base_uri": "https://localhost:8080/"
        },
        "outputId": "f745fd99-712a-4b36-eab9-0b99e1fc1b6b"
      },
      "execution_count": 275,
      "outputs": [
        {
          "output_type": "stream",
          "name": "stdout",
          "text": [
            "Column: Age\n",
            "Number of Unique Values: 48\n",
            "Unique Values: [19. 39. 23. 21. 29. 41. 48. 44. 56. 25. 40. 18. 59. 34. 22. 46. 49. 42.\n",
            " 43. 64. 52. 37. 58. 50. 35. 61. 31. 54. 45. 30. 33. 28. 62. 53. 47. 27.\n",
            " nan 38. 63. 32. 36. 20. 51. 55. 57. 24. 60. 26.]\n",
            "\n",
            "Column: Gender\n",
            "Number of Unique Values: 2\n",
            "Unique Values: ['Female' 'Male']\n",
            "\n",
            "Column: Annual Income\n",
            "Number of Unique Values: 88594\n",
            "Unique Values: [ 10049.  31678.  25602. ... 125361. 137940.  40368.]\n",
            "\n",
            "Column: Marital Status\n",
            "Number of Unique Values: 4\n",
            "Unique Values: ['Married' 'Divorced' 'Single' nan]\n",
            "\n",
            "Column: Number of Dependents\n",
            "Number of Unique Values: 6\n",
            "Unique Values: [ 1.  3.  2.  0.  4. nan]\n",
            "\n",
            "Column: Education Level\n",
            "Number of Unique Values: 4\n",
            "Unique Values: [\"Bachelor's\" \"Master's\" 'High School' 'PhD']\n",
            "\n",
            "Column: Occupation\n",
            "Number of Unique Values: 4\n",
            "Unique Values: ['Self-Employed' nan 'Employed' 'Unemployed']\n",
            "\n",
            "Column: Health Score\n",
            "Number of Unique Values: 532658\n",
            "Unique Values: [22.59876067 15.56973099 47.17754929 ... 47.09690866 13.6616783\n",
            " 11.48348225]\n",
            "\n",
            "Column: Location\n",
            "Number of Unique Values: 3\n",
            "Unique Values: ['Urban' 'Rural' 'Suburban']\n",
            "\n",
            "Column: Policy Type\n",
            "Number of Unique Values: 3\n",
            "Unique Values: ['Premium' 'Comprehensive' 'Basic']\n",
            "\n",
            "Column: Previous Claims\n",
            "Number of Unique Values: 11\n",
            "Unique Values: [ 2.  1.  0. nan  3.  4.  5.  6.  7.  8.  9.]\n",
            "\n",
            "Column: Vehicle Age\n",
            "Number of Unique Values: 21\n",
            "Unique Values: [17. 12. 14.  0.  8.  4. 11. 10.  9.  6. 19.  3. 15. 16.  5.  7. 18.  1.\n",
            "  2. 13. nan]\n",
            "\n",
            "Column: Insurance Duration\n",
            "Number of Unique Values: 10\n",
            "Unique Values: [ 5.  2.  3.  1.  4.  6.  8.  9.  7. nan]\n",
            "\n",
            "Column: Policy Start Date\n",
            "Number of Unique Values: 167381\n",
            "Unique Values: ['2023-12-23 15:21:39.134960' '2023-06-12 15:21:39.111551'\n",
            " '2023-09-30 15:21:39.221386' ... '2021-04-28 15:21:39.129190'\n",
            " '2019-11-14 15:21:39.201446' '2020-10-19 15:21:39.118178']\n",
            "\n",
            "Column: Customer Feedback\n",
            "Number of Unique Values: 4\n",
            "Unique Values: ['Poor' 'Average' 'Good' nan]\n",
            "\n",
            "Column: Smoking Status\n",
            "Number of Unique Values: 2\n",
            "Unique Values: ['No' 'Yes']\n",
            "\n",
            "Column: Exercise Frequency\n",
            "Number of Unique Values: 4\n",
            "Unique Values: ['Weekly' 'Monthly' 'Daily' 'Rarely']\n",
            "\n",
            "Column: Property Type\n",
            "Number of Unique Values: 3\n",
            "Unique Values: ['House' 'Apartment' 'Condo']\n",
            "\n",
            "Column: Premium Amount\n",
            "Number of Unique Values: 4794\n",
            "Unique Values: [2869. 1483.  567. ... 4937. 4507. 4925.]\n",
            "\n"
          ]
        }
      ]
    },
    {
      "cell_type": "code",
      "source": [
        "from sklearn.impute import SimpleImputer\n",
        "from sklearn.preprocessing import StandardScaler\n",
        "import numpy as np\n",
        "\n",
        "# Imputers and Scalers\n",
        "imputer_age = SimpleImputer(strategy='median')\n",
        "scaler_income = StandardScaler()\n",
        "imputer_health = SimpleImputer(strategy='most_frequent')\n",
        "imputer_dependents = SimpleImputer(strategy='median')\n",
        "imputer_income = SimpleImputer(strategy='median')\n",
        "\n",
        "# Apply to test_data\n",
        "test_data['Age'] = imputer_age.fit_transform(test_data[['Age']])\n",
        "test_data['Credit Score'] = imputer_age.fit_transform(test_data[['Credit Score']])  # Same imputer as age\n",
        "\n",
        "test_data['Health Score'] = imputer_health.fit_transform(test_data[['Health Score']])\n",
        "\n",
        "# Scale and impute Annual Income\n",
        "test_data['Annual Income'] = scaler_income.fit_transform(test_data[['Annual Income']])\n",
        "test_data['Annual Income'] = imputer_income.fit_transform(test_data[['Annual Income']])\n",
        "\n",
        "test_data['Previous Claims'].fillna(0, inplace=True)\n",
        "\n",
        "test_data['Number of Dependents'] = imputer_dependents.fit_transform(test_data[['Number of Dependents']])\n",
        "\n",
        "# Mappings\n",
        "marital_mapping = {\"Single\": 0, \"Married\": 1, \"Divorced\": 2, np.nan: 3}\n",
        "test_data['Marital Status'] = test_data['Marital Status'].map(marital_mapping)\n",
        "\n",
        "gender_mapping = {\"Female\": 0, \"Male\": 1}\n",
        "test_data['Gender'] = test_data['Gender'].map(gender_mapping)\n",
        "\n",
        "location_mapping = {\"Urban\": 0, \"Rural\": 1, \"Suburban\": 3}\n",
        "test_data['Location'] = test_data['Location'].map(location_mapping)\n",
        "\n",
        "policy_mapping = {\"Premium\": 0, \"Comprehensive\": 1, \"Basic\": 3}\n",
        "test_data['Policy Type'] = test_data['Policy Type'].map(policy_mapping)\n",
        "\n",
        "education_mapping = {\"High School\": 1, \"Bachelor's\": 2, \"Master's\": 3, \"PhD\": 4}\n",
        "test_data['Education Level'] = test_data['Education Level'].map(education_mapping)\n",
        "\n",
        "property_mapping = {\"House\": 0, \"Apartment\": 1, \"Condo\": 3}\n",
        "test_data['Property Type'] = test_data['Property Type'].map(property_mapping)\n",
        "\n",
        "feedback_mapping = {\"Poor\": 0, \"Fair\": 1, \"Good\": 2, \"Excellent\": 3, np.nan: 4}\n",
        "test_data['Customer Feedback'] = test_data['Customer Feedback'].map(feedback_mapping)\n",
        "\n",
        "smoking_mapping = {\"Yes\": 0, \"No\": 1}\n",
        "test_data['Smoking Status'] = test_data['Smoking Status'].map(smoking_mapping)\n",
        "\n",
        "exercise_mapping = {\"Weekly\": 0, \"Monthly\": 1, \"Daily\": 2, \"Rarely\": 3}\n",
        "test_data['Exercise Frequency'] = test_data['Exercise Frequency'].map(exercise_mapping)\n",
        "\n",
        "occupation_mapping = {\"Self-Employed\": 0, \"Unemployed\": 1, \"Employed\": 2, np.nan: 3}\n",
        "test_data['Occupation'] = test_data['Occupation'].map(occupation_mapping)\n"
      ],
      "metadata": {
        "id": "A8Bgn0DzETQL"
      },
      "execution_count": 276,
      "outputs": []
    },
    {
      "cell_type": "code",
      "source": [
        "# Missing Age Values\n",
        "imputer_age = SimpleImputer(strategy='median')\n",
        "train_data['Age'] = imputer_age.fit_transform(train_data[['Age']])\n",
        "scaler_credit = SimpleImputer(strategy='median')\n",
        "train_data['Credit Score'] = scaler_credit.fit_transform(train_data[['Credit Score']])\n",
        "\n",
        "imputer_health = SimpleImputer(strategy='most_frequent')\n",
        "train_data['Health Score'] = imputer_health.fit_transform(train_data[['Health Score']])\n",
        "\n",
        "# Missing Annual Income\n",
        "# Scale Annual Income\n",
        "scaler_income = StandardScaler()\n",
        "train_data['Annual Income'] = scaler_income.fit_transform(train_data[['Annual Income']])\n",
        "imputer_income = SimpleImputer(strategy='median')\n",
        "train_data['Annual Income'] = imputer_income.fit_transform(train_data[['Annual Income']])\n",
        "\n",
        "train_data['Previous Claims'].fillna(0, inplace=True)\n",
        "\n",
        "# Missing Dependents\n",
        "imputer_dependents = SimpleImputer(strategy='median')\n",
        "train_data['Number of Dependents'] = imputer_dependents.fit_transform(train_data[['Number of Dependents']])\n",
        "\n",
        "# Mapping\n",
        "marital_mapping = {\"Single\" : 0, \"Married\" : 1, \"Divorced\" : 2, np.nan : 3}\n",
        "train_data['Marital Status'] = train_data['Marital Status'].map(marital_mapping)\n",
        "\n",
        "gender_mapping = {\"Female\" : 0, \"Male\" : 1}\n",
        "train_data['Gender'] = train_data['Gender'].map(gender_mapping)\n",
        "\n",
        "location_mapping ={\"Urban\": 0, \"Rural\" : 1, \"Suburban\" : 3}\n",
        "train_data['Location'] = train_data['Location'].map(location_mapping)\n",
        "\n",
        "policy_mapping ={\"Premium\": 0, \"Comprehensive\" : 1, \"Basic\" : 3}\n",
        "train_data['Policy Type'] = train_data['Policy Type'].map(policy_mapping)\n",
        "\n",
        "education_mapping = {\"High School\": 1, \"Bachelor's\": 2, \"Master's\": 3, \"PhD\": 4}\n",
        "train_data['Education Level'] = train_data['Education Level'].map(education_mapping)\n",
        "\n",
        "property_mapping ={\"House\": 0, \"Apartment\" : 1, \"Condo\" : 3}\n",
        "train_data['Property Type'] = train_data['Property Type'].map(property_mapping)\n",
        "\n",
        "feedback_mapping ={\"Poor\": 0, \"Fair\" : 1, \"Good\" : 2, \"Excellent\" : 3, np.nan : 4}\n",
        "train_data['Customer Feedback'] = train_data['Customer Feedback'].map(feedback_mapping)\n",
        "\n",
        "smoking_mapping = {\"Yes\" : 0, \"No\" : 1}\n",
        "train_data['Smoking Status'] = train_data['Smoking Status'].map(smoking_mapping)\n",
        "\n",
        "exercise_mapping = {\"Weekly\" : 0, \"Monthly\" : 1, \"Daily\" : 2, \"Rarely\" : 3}\n",
        "train_data['Exercise Frequency'] = train_data['Exercise Frequency'].map(exercise_mapping)\n",
        "\n",
        "occupation_mapping = {\"Self-Employed\" : 0, \"Unemployed\" : 1, \"Employed\" : 2, np.nan :3}\n",
        "train_data['Occupation'] = train_data['Occupation'].map(occupation_mapping)"
      ],
      "metadata": {
        "id": "tRWU5qoU4gRV"
      },
      "execution_count": 277,
      "outputs": []
    },
    {
      "cell_type": "code",
      "source": [
        "train_data['Customer Feedback']"
      ],
      "metadata": {
        "colab": {
          "base_uri": "https://localhost:8080/",
          "height": 458
        },
        "id": "3rRqmTmE_G_H",
        "outputId": "44205d08-dc47-400a-b5f5-f60f6886693d"
      },
      "execution_count": 278,
      "outputs": [
        {
          "output_type": "execute_result",
          "data": {
            "text/plain": [
              "0          0.0\n",
              "1          NaN\n",
              "2          2.0\n",
              "3          0.0\n",
              "4          0.0\n",
              "          ... \n",
              "1199995    0.0\n",
              "1199996    0.0\n",
              "1199997    2.0\n",
              "1199998    0.0\n",
              "1199999    2.0\n",
              "Name: Customer Feedback, Length: 1200000, dtype: float64"
            ],
            "text/html": [
              "<div>\n",
              "<style scoped>\n",
              "    .dataframe tbody tr th:only-of-type {\n",
              "        vertical-align: middle;\n",
              "    }\n",
              "\n",
              "    .dataframe tbody tr th {\n",
              "        vertical-align: top;\n",
              "    }\n",
              "\n",
              "    .dataframe thead th {\n",
              "        text-align: right;\n",
              "    }\n",
              "</style>\n",
              "<table border=\"1\" class=\"dataframe\">\n",
              "  <thead>\n",
              "    <tr style=\"text-align: right;\">\n",
              "      <th></th>\n",
              "      <th>Customer Feedback</th>\n",
              "    </tr>\n",
              "  </thead>\n",
              "  <tbody>\n",
              "    <tr>\n",
              "      <th>0</th>\n",
              "      <td>0.0</td>\n",
              "    </tr>\n",
              "    <tr>\n",
              "      <th>1</th>\n",
              "      <td>NaN</td>\n",
              "    </tr>\n",
              "    <tr>\n",
              "      <th>2</th>\n",
              "      <td>2.0</td>\n",
              "    </tr>\n",
              "    <tr>\n",
              "      <th>3</th>\n",
              "      <td>0.0</td>\n",
              "    </tr>\n",
              "    <tr>\n",
              "      <th>4</th>\n",
              "      <td>0.0</td>\n",
              "    </tr>\n",
              "    <tr>\n",
              "      <th>...</th>\n",
              "      <td>...</td>\n",
              "    </tr>\n",
              "    <tr>\n",
              "      <th>1199995</th>\n",
              "      <td>0.0</td>\n",
              "    </tr>\n",
              "    <tr>\n",
              "      <th>1199996</th>\n",
              "      <td>0.0</td>\n",
              "    </tr>\n",
              "    <tr>\n",
              "      <th>1199997</th>\n",
              "      <td>2.0</td>\n",
              "    </tr>\n",
              "    <tr>\n",
              "      <th>1199998</th>\n",
              "      <td>0.0</td>\n",
              "    </tr>\n",
              "    <tr>\n",
              "      <th>1199999</th>\n",
              "      <td>2.0</td>\n",
              "    </tr>\n",
              "  </tbody>\n",
              "</table>\n",
              "<p>1200000 rows × 1 columns</p>\n",
              "</div><br><label><b>dtype:</b> float64</label>"
            ]
          },
          "metadata": {},
          "execution_count": 278
        }
      ]
    },
    {
      "cell_type": "code",
      "source": [
        "train_data.info()"
      ],
      "metadata": {
        "colab": {
          "base_uri": "https://localhost:8080/"
        },
        "id": "G4G74dw74rrj",
        "outputId": "1a8f81c0-028c-42eb-f7aa-a25bdf7167c7"
      },
      "execution_count": 279,
      "outputs": [
        {
          "output_type": "stream",
          "name": "stdout",
          "text": [
            "<class 'pandas.core.frame.DataFrame'>\n",
            "RangeIndex: 1200000 entries, 0 to 1199999\n",
            "Data columns (total 21 columns):\n",
            " #   Column                Non-Null Count    Dtype  \n",
            "---  ------                --------------    -----  \n",
            " 0   id                    1200000 non-null  int64  \n",
            " 1   Age                   1200000 non-null  float64\n",
            " 2   Gender                1200000 non-null  int64  \n",
            " 3   Annual Income         1200000 non-null  float64\n",
            " 4   Marital Status        1200000 non-null  int64  \n",
            " 5   Number of Dependents  1200000 non-null  float64\n",
            " 6   Education Level       1200000 non-null  int64  \n",
            " 7   Occupation            1200000 non-null  int64  \n",
            " 8   Health Score          1200000 non-null  float64\n",
            " 9   Location              1200000 non-null  int64  \n",
            " 10  Policy Type           1200000 non-null  int64  \n",
            " 11  Previous Claims       1200000 non-null  float64\n",
            " 12  Vehicle Age           1199994 non-null  float64\n",
            " 13  Credit Score          1200000 non-null  float64\n",
            " 14  Insurance Duration    1199999 non-null  float64\n",
            " 15  Policy Start Date     1200000 non-null  object \n",
            " 16  Customer Feedback     822095 non-null   float64\n",
            " 17  Smoking Status        1200000 non-null  int64  \n",
            " 18  Exercise Frequency    1200000 non-null  int64  \n",
            " 19  Property Type         1200000 non-null  int64  \n",
            " 20  Premium Amount        1200000 non-null  float64\n",
            "dtypes: float64(10), int64(10), object(1)\n",
            "memory usage: 192.3+ MB\n"
          ]
        }
      ]
    },
    {
      "cell_type": "code",
      "source": [
        "test_data.info()"
      ],
      "metadata": {
        "colab": {
          "base_uri": "https://localhost:8080/"
        },
        "id": "HQhbnuhY8ksx",
        "outputId": "5cebd23b-da74-41a1-9bff-2db91dcf4576"
      },
      "execution_count": 280,
      "outputs": [
        {
          "output_type": "stream",
          "name": "stdout",
          "text": [
            "<class 'pandas.core.frame.DataFrame'>\n",
            "RangeIndex: 800000 entries, 0 to 799999\n",
            "Data columns (total 20 columns):\n",
            " #   Column                Non-Null Count   Dtype  \n",
            "---  ------                --------------   -----  \n",
            " 0   id                    800000 non-null  int64  \n",
            " 1   Age                   800000 non-null  float64\n",
            " 2   Gender                800000 non-null  int64  \n",
            " 3   Annual Income         800000 non-null  float64\n",
            " 4   Marital Status        800000 non-null  int64  \n",
            " 5   Number of Dependents  800000 non-null  float64\n",
            " 6   Education Level       800000 non-null  int64  \n",
            " 7   Occupation            800000 non-null  int64  \n",
            " 8   Health Score          800000 non-null  float64\n",
            " 9   Location              800000 non-null  int64  \n",
            " 10  Policy Type           800000 non-null  int64  \n",
            " 11  Previous Claims       800000 non-null  float64\n",
            " 12  Vehicle Age           799997 non-null  float64\n",
            " 13  Credit Score          800000 non-null  float64\n",
            " 14  Insurance Duration    799998 non-null  float64\n",
            " 15  Policy Start Date     800000 non-null  object \n",
            " 16  Customer Feedback     548783 non-null  float64\n",
            " 17  Smoking Status        800000 non-null  int64  \n",
            " 18  Exercise Frequency    800000 non-null  int64  \n",
            " 19  Property Type         800000 non-null  int64  \n",
            "dtypes: float64(9), int64(10), object(1)\n",
            "memory usage: 122.1+ MB\n"
          ]
        }
      ]
    },
    {
      "cell_type": "markdown",
      "source": [
        "## 3. Create a Pipeline"
      ],
      "metadata": {
        "id": "u-z7RFsxWLHM"
      }
    },
    {
      "cell_type": "code",
      "source": [
        "train_data = train_data.drop('id', axis= 1)\n",
        "train_data = train_data.drop('Policy Start Date', axis= 1)\n",
        "train_data = train_data.drop('Customer Feedback', axis= 1)"
      ],
      "metadata": {
        "id": "PuJFYWuSWNvB"
      },
      "execution_count": 281,
      "outputs": []
    },
    {
      "cell_type": "code",
      "source": [
        "test_data = test_data.drop('id', axis= 1)\n",
        "test_data = test_data.drop('Policy Start Date', axis= 1)\n",
        "test_data = test_data.drop('Customer Feedback', axis= 1)"
      ],
      "metadata": {
        "id": "PphTBhGfDtjM"
      },
      "execution_count": 282,
      "outputs": []
    },
    {
      "cell_type": "code",
      "source": [
        "train_data =  train_data.drop('Vehicle Age', axis= 1)"
      ],
      "metadata": {
        "id": "6E8NIu56BA0w"
      },
      "execution_count": 283,
      "outputs": []
    },
    {
      "cell_type": "code",
      "source": [
        "test_data =  test_data.drop('Vehicle Age', axis= 1)"
      ],
      "metadata": {
        "id": "wuCJW6twDwUW"
      },
      "execution_count": 284,
      "outputs": []
    },
    {
      "cell_type": "code",
      "source": [
        "train_data.fillna(0, inplace=True)"
      ],
      "metadata": {
        "id": "2qfD0EERBEsW"
      },
      "execution_count": 285,
      "outputs": []
    },
    {
      "cell_type": "code",
      "source": [
        "test_data.fillna(0, inplace=True)"
      ],
      "metadata": {
        "id": "yXOUzUofG2Pi"
      },
      "execution_count": 286,
      "outputs": []
    },
    {
      "cell_type": "code",
      "source": [
        "test_data.info()"
      ],
      "metadata": {
        "colab": {
          "base_uri": "https://localhost:8080/"
        },
        "id": "b5zSrL2BD4qD",
        "outputId": "8a136bb6-81a6-4582-aab3-9f7f8cdc2800"
      },
      "execution_count": 287,
      "outputs": [
        {
          "output_type": "stream",
          "name": "stdout",
          "text": [
            "<class 'pandas.core.frame.DataFrame'>\n",
            "RangeIndex: 800000 entries, 0 to 799999\n",
            "Data columns (total 16 columns):\n",
            " #   Column                Non-Null Count   Dtype  \n",
            "---  ------                --------------   -----  \n",
            " 0   Age                   800000 non-null  float64\n",
            " 1   Gender                800000 non-null  int64  \n",
            " 2   Annual Income         800000 non-null  float64\n",
            " 3   Marital Status        800000 non-null  int64  \n",
            " 4   Number of Dependents  800000 non-null  float64\n",
            " 5   Education Level       800000 non-null  int64  \n",
            " 6   Occupation            800000 non-null  int64  \n",
            " 7   Health Score          800000 non-null  float64\n",
            " 8   Location              800000 non-null  int64  \n",
            " 9   Policy Type           800000 non-null  int64  \n",
            " 10  Previous Claims       800000 non-null  float64\n",
            " 11  Credit Score          800000 non-null  float64\n",
            " 12  Insurance Duration    800000 non-null  float64\n",
            " 13  Smoking Status        800000 non-null  int64  \n",
            " 14  Exercise Frequency    800000 non-null  int64  \n",
            " 15  Property Type         800000 non-null  int64  \n",
            "dtypes: float64(7), int64(9)\n",
            "memory usage: 97.7 MB\n"
          ]
        }
      ]
    },
    {
      "cell_type": "code",
      "source": [
        "train_data.info()"
      ],
      "metadata": {
        "colab": {
          "base_uri": "https://localhost:8080/"
        },
        "id": "bZGcbTHLAoEW",
        "outputId": "9ab293d4-2de2-4910-902a-628bee7b50e4"
      },
      "execution_count": 288,
      "outputs": [
        {
          "output_type": "stream",
          "name": "stdout",
          "text": [
            "<class 'pandas.core.frame.DataFrame'>\n",
            "RangeIndex: 1200000 entries, 0 to 1199999\n",
            "Data columns (total 17 columns):\n",
            " #   Column                Non-Null Count    Dtype  \n",
            "---  ------                --------------    -----  \n",
            " 0   Age                   1200000 non-null  float64\n",
            " 1   Gender                1200000 non-null  int64  \n",
            " 2   Annual Income         1200000 non-null  float64\n",
            " 3   Marital Status        1200000 non-null  int64  \n",
            " 4   Number of Dependents  1200000 non-null  float64\n",
            " 5   Education Level       1200000 non-null  int64  \n",
            " 6   Occupation            1200000 non-null  int64  \n",
            " 7   Health Score          1200000 non-null  float64\n",
            " 8   Location              1200000 non-null  int64  \n",
            " 9   Policy Type           1200000 non-null  int64  \n",
            " 10  Previous Claims       1200000 non-null  float64\n",
            " 11  Credit Score          1200000 non-null  float64\n",
            " 12  Insurance Duration    1200000 non-null  float64\n",
            " 13  Smoking Status        1200000 non-null  int64  \n",
            " 14  Exercise Frequency    1200000 non-null  int64  \n",
            " 15  Property Type         1200000 non-null  int64  \n",
            " 16  Premium Amount        1200000 non-null  float64\n",
            "dtypes: float64(8), int64(9)\n",
            "memory usage: 155.6 MB\n"
          ]
        }
      ]
    },
    {
      "cell_type": "code",
      "source": [
        "X, y = train_data.drop('Premium Amount', axis=1), train_data[['Premium Amount']]"
      ],
      "metadata": {
        "id": "UPiTvC0JBWXO"
      },
      "execution_count": 289,
      "outputs": []
    },
    {
      "cell_type": "code",
      "source": [
        "X_train, X_test, y_train, y_test = train_test_split(X, y, random_state=1)"
      ],
      "metadata": {
        "id": "UWYhC--kB469"
      },
      "execution_count": 290,
      "outputs": []
    },
    {
      "cell_type": "markdown",
      "source": [
        "## 4. Train the Model"
      ],
      "metadata": {
        "id": "8n-ScOLqze60"
      }
    },
    {
      "cell_type": "code",
      "source": [
        "dtrain_reg = xgb.DMatrix(X_train, y_train, enable_categorical=True)\n",
        "dtest_reg = xgb.DMatrix(X_test, y_test, enable_categorical=True)"
      ],
      "metadata": {
        "id": "zRmZyUk_B1yV"
      },
      "execution_count": 291,
      "outputs": []
    },
    {
      "cell_type": "code",
      "source": [
        "params = {\"objective\": \"reg:squarederror\", \"tree_method\": \"gpu_hist\"}"
      ],
      "metadata": {
        "id": "fqLNJkoHzfL4"
      },
      "execution_count": 292,
      "outputs": []
    },
    {
      "cell_type": "code",
      "source": [
        "n = 100\n",
        "model = xgb.train(\n",
        "   params=params,\n",
        "   dtrain=dtrain_reg,\n",
        "   num_boost_round=n,\n",
        ")"
      ],
      "metadata": {
        "id": "P915D43NBPlV"
      },
      "execution_count": 293,
      "outputs": []
    },
    {
      "cell_type": "code",
      "source": [
        "preds = model.predict(dtest_reg)"
      ],
      "metadata": {
        "id": "eYAXGhdfB871"
      },
      "execution_count": 294,
      "outputs": []
    },
    {
      "cell_type": "markdown",
      "source": [
        "## 5. Evaluate the Model"
      ],
      "metadata": {
        "id": "IkAsAi29WiDq"
      }
    },
    {
      "cell_type": "code",
      "source": [
        "rmse = root_mean_squared_log_error(y_test, preds)\n",
        "\n",
        "print(f\"RMSLE of the base model: {rmse:.3f}\")"
      ],
      "metadata": {
        "id": "8L0zJYBfWiVX",
        "colab": {
          "base_uri": "https://localhost:8080/"
        },
        "outputId": "780044ef-588a-45f7-a607-e2a7efe22267"
      },
      "execution_count": 295,
      "outputs": [
        {
          "output_type": "stream",
          "name": "stdout",
          "text": [
            "RMSLE of the base model: 1.146\n"
          ]
        }
      ]
    },
    {
      "cell_type": "code",
      "source": [
        "params = {\"objective\": \"reg:squarederror\", \"tree_method\": \"gpu_hist\"}\n",
        "n = 100"
      ],
      "metadata": {
        "id": "oDED6nhSCBH9"
      },
      "execution_count": 296,
      "outputs": []
    },
    {
      "cell_type": "code",
      "source": [
        "evals = [(dtrain_reg, \"train\"), (dtest_reg, \"validation\")]\n",
        "\n",
        "model = xgb.train(\n",
        "   params=params,\n",
        "   dtrain=dtrain_reg,\n",
        "   num_boost_round=n,\n",
        "   evals=evals,\n",
        ")"
      ],
      "metadata": {
        "colab": {
          "base_uri": "https://localhost:8080/"
        },
        "collapsed": true,
        "id": "4R2ijO6jCDkP",
        "outputId": "d68f9318-aacd-4a5c-db7d-4aba4de8d873"
      },
      "execution_count": 297,
      "outputs": [
        {
          "output_type": "stream",
          "name": "stdout",
          "text": [
            "[0]\ttrain-rmse:858.00544\tvalidation-rmse:858.31072\n",
            "[1]\ttrain-rmse:853.19475\tvalidation-rmse:853.50475\n",
            "[2]\ttrain-rmse:851.55333\tvalidation-rmse:851.89238\n",
            "[3]\ttrain-rmse:850.56164\tvalidation-rmse:850.90397\n",
            "[4]\ttrain-rmse:849.06809\tvalidation-rmse:849.41819\n",
            "[5]\ttrain-rmse:848.71721\tvalidation-rmse:849.15980\n",
            "[6]\ttrain-rmse:848.45855\tvalidation-rmse:849.07597\n",
            "[7]\ttrain-rmse:848.16540\tvalidation-rmse:848.89611\n",
            "[8]\ttrain-rmse:847.54071\tvalidation-rmse:848.36637\n",
            "[9]\ttrain-rmse:847.35582\tvalidation-rmse:848.30362\n",
            "[10]\ttrain-rmse:847.16044\tvalidation-rmse:848.19807\n",
            "[11]\ttrain-rmse:846.97967\tvalidation-rmse:848.13738\n",
            "[12]\ttrain-rmse:846.54733\tvalidation-rmse:847.79789\n",
            "[13]\ttrain-rmse:846.25455\tvalidation-rmse:847.63792\n",
            "[14]\ttrain-rmse:846.12408\tvalidation-rmse:847.61717\n",
            "[15]\ttrain-rmse:846.01269\tvalidation-rmse:847.61436\n",
            "[16]\ttrain-rmse:845.84603\tvalidation-rmse:847.54165\n",
            "[17]\ttrain-rmse:845.71246\tvalidation-rmse:847.48297\n",
            "[18]\ttrain-rmse:845.59995\tvalidation-rmse:847.48874\n",
            "[19]\ttrain-rmse:845.38502\tvalidation-rmse:847.37504\n",
            "[20]\ttrain-rmse:845.17560\tvalidation-rmse:847.23692\n",
            "[21]\ttrain-rmse:845.08171\tvalidation-rmse:847.23313\n",
            "[22]\ttrain-rmse:844.97110\tvalidation-rmse:847.25021\n",
            "[23]\ttrain-rmse:844.87876\tvalidation-rmse:847.23969\n",
            "[24]\ttrain-rmse:844.73351\tvalidation-rmse:847.19144\n",
            "[25]\ttrain-rmse:844.62891\tvalidation-rmse:847.20486\n",
            "[26]\ttrain-rmse:844.52163\tvalidation-rmse:847.21594\n",
            "[27]\ttrain-rmse:844.47685\tvalidation-rmse:847.20699\n",
            "[28]\ttrain-rmse:844.37046\tvalidation-rmse:847.19778\n",
            "[29]\ttrain-rmse:844.27510\tvalidation-rmse:847.20336\n",
            "[30]\ttrain-rmse:844.06573\tvalidation-rmse:847.07283\n",
            "[31]\ttrain-rmse:843.95927\tvalidation-rmse:847.04864\n",
            "[32]\ttrain-rmse:843.85091\tvalidation-rmse:847.02851\n",
            "[33]\ttrain-rmse:843.79804\tvalidation-rmse:847.01488\n",
            "[34]\ttrain-rmse:843.45301\tvalidation-rmse:846.75883\n",
            "[35]\ttrain-rmse:843.34822\tvalidation-rmse:846.78155\n",
            "[36]\ttrain-rmse:843.24573\tvalidation-rmse:846.79059\n",
            "[37]\ttrain-rmse:843.13943\tvalidation-rmse:846.78157\n",
            "[38]\ttrain-rmse:843.03771\tvalidation-rmse:846.78116\n",
            "[39]\ttrain-rmse:842.99044\tvalidation-rmse:846.81099\n",
            "[40]\ttrain-rmse:842.88893\tvalidation-rmse:846.79966\n",
            "[41]\ttrain-rmse:842.73858\tvalidation-rmse:846.77965\n",
            "[42]\ttrain-rmse:842.65991\tvalidation-rmse:846.77513\n",
            "[43]\ttrain-rmse:842.55921\tvalidation-rmse:846.80884\n",
            "[44]\ttrain-rmse:842.45020\tvalidation-rmse:846.79876\n",
            "[45]\ttrain-rmse:842.33138\tvalidation-rmse:846.81360\n",
            "[46]\ttrain-rmse:842.20789\tvalidation-rmse:846.82662\n",
            "[47]\ttrain-rmse:842.12312\tvalidation-rmse:846.84507\n",
            "[48]\ttrain-rmse:842.00163\tvalidation-rmse:846.81005\n",
            "[49]\ttrain-rmse:841.87875\tvalidation-rmse:846.76985\n",
            "[50]\ttrain-rmse:841.77874\tvalidation-rmse:846.77070\n",
            "[51]\ttrain-rmse:841.69604\tvalidation-rmse:846.77562\n",
            "[52]\ttrain-rmse:841.61649\tvalidation-rmse:846.80339\n",
            "[53]\ttrain-rmse:841.57209\tvalidation-rmse:846.81530\n",
            "[54]\ttrain-rmse:841.44431\tvalidation-rmse:846.77453\n",
            "[55]\ttrain-rmse:841.28723\tvalidation-rmse:846.69781\n",
            "[56]\ttrain-rmse:841.19348\tvalidation-rmse:846.69510\n",
            "[57]\ttrain-rmse:841.06752\tvalidation-rmse:846.68936\n",
            "[58]\ttrain-rmse:840.97675\tvalidation-rmse:846.67856\n",
            "[59]\ttrain-rmse:840.91599\tvalidation-rmse:846.68834\n",
            "[60]\ttrain-rmse:840.86381\tvalidation-rmse:846.67870\n",
            "[61]\ttrain-rmse:840.64603\tvalidation-rmse:846.51036\n",
            "[62]\ttrain-rmse:840.53689\tvalidation-rmse:846.48614\n",
            "[63]\ttrain-rmse:840.42673\tvalidation-rmse:846.48613\n",
            "[64]\ttrain-rmse:840.35179\tvalidation-rmse:846.49753\n",
            "[65]\ttrain-rmse:840.25551\tvalidation-rmse:846.52553\n",
            "[66]\ttrain-rmse:840.15502\tvalidation-rmse:846.53520\n",
            "[67]\ttrain-rmse:840.06178\tvalidation-rmse:846.55765\n",
            "[68]\ttrain-rmse:839.96301\tvalidation-rmse:846.58186\n",
            "[69]\ttrain-rmse:839.88867\tvalidation-rmse:846.57563\n",
            "[70]\ttrain-rmse:839.81033\tvalidation-rmse:846.55913\n",
            "[71]\ttrain-rmse:839.71840\tvalidation-rmse:846.55232\n",
            "[72]\ttrain-rmse:839.63704\tvalidation-rmse:846.56062\n",
            "[73]\ttrain-rmse:839.57578\tvalidation-rmse:846.55539\n",
            "[74]\ttrain-rmse:839.48211\tvalidation-rmse:846.57820\n",
            "[75]\ttrain-rmse:839.38221\tvalidation-rmse:846.56836\n",
            "[76]\ttrain-rmse:839.30547\tvalidation-rmse:846.57861\n",
            "[77]\ttrain-rmse:839.22112\tvalidation-rmse:846.58885\n",
            "[78]\ttrain-rmse:839.09854\tvalidation-rmse:846.57874\n",
            "[79]\ttrain-rmse:838.97984\tvalidation-rmse:846.61614\n",
            "[80]\ttrain-rmse:838.95318\tvalidation-rmse:846.62238\n",
            "[81]\ttrain-rmse:838.86563\tvalidation-rmse:846.63709\n",
            "[82]\ttrain-rmse:838.77560\tvalidation-rmse:846.63910\n",
            "[83]\ttrain-rmse:838.66879\tvalidation-rmse:846.65661\n",
            "[84]\ttrain-rmse:838.59706\tvalidation-rmse:846.67730\n",
            "[85]\ttrain-rmse:838.50742\tvalidation-rmse:846.68292\n",
            "[86]\ttrain-rmse:838.47032\tvalidation-rmse:846.69114\n",
            "[87]\ttrain-rmse:838.38978\tvalidation-rmse:846.70738\n",
            "[88]\ttrain-rmse:838.27580\tvalidation-rmse:846.71076\n",
            "[89]\ttrain-rmse:838.18679\tvalidation-rmse:846.71010\n",
            "[90]\ttrain-rmse:838.12134\tvalidation-rmse:846.71552\n",
            "[91]\ttrain-rmse:838.03722\tvalidation-rmse:846.72640\n",
            "[92]\ttrain-rmse:837.96381\tvalidation-rmse:846.73569\n",
            "[93]\ttrain-rmse:837.90084\tvalidation-rmse:846.72323\n",
            "[94]\ttrain-rmse:837.81003\tvalidation-rmse:846.72523\n",
            "[95]\ttrain-rmse:837.72196\tvalidation-rmse:846.75955\n",
            "[96]\ttrain-rmse:837.62055\tvalidation-rmse:846.77021\n",
            "[97]\ttrain-rmse:837.51783\tvalidation-rmse:846.77395\n",
            "[98]\ttrain-rmse:837.42231\tvalidation-rmse:846.77305\n",
            "[99]\ttrain-rmse:837.33735\tvalidation-rmse:846.78963\n"
          ]
        }
      ]
    },
    {
      "cell_type": "markdown",
      "source": [
        "## Generate Submission File\n",
        "\n",
        "Choose the model that has the best performance to generate a submission file."
      ],
      "metadata": {
        "id": "a6UAAMyepmHi"
      }
    },
    {
      "cell_type": "code",
      "source": [
        "sf = pd.read_csv('/content/drive/MyDrive/Regression with an Insurance Dataset/sample_submission.csv')"
      ],
      "metadata": {
        "id": "4pe-GF-K-jsP"
      },
      "execution_count": 312,
      "outputs": []
    },
    {
      "cell_type": "code",
      "source": [
        "sf.info()"
      ],
      "metadata": {
        "colab": {
          "base_uri": "https://localhost:8080/"
        },
        "id": "SynDn4bRCPeE",
        "outputId": "bf670116-df23-4ff2-ebd4-18e34b81a2c6"
      },
      "execution_count": 313,
      "outputs": [
        {
          "output_type": "stream",
          "name": "stdout",
          "text": [
            "<class 'pandas.core.frame.DataFrame'>\n",
            "RangeIndex: 800000 entries, 0 to 799999\n",
            "Data columns (total 2 columns):\n",
            " #   Column          Non-Null Count   Dtype  \n",
            "---  ------          --------------   -----  \n",
            " 0   id              800000 non-null  int64  \n",
            " 1   Premium Amount  800000 non-null  float64\n",
            "dtypes: float64(1), int64(1)\n",
            "memory usage: 12.2 MB\n"
          ]
        }
      ]
    },
    {
      "cell_type": "code",
      "source": [
        "id = sf['id']\n",
        "y_pred = model.predict(xgb.DMatrix(test_data))\n",
        "\n",
        "# Create a submission DataFrame\n",
        "submission_df = pd.DataFrame({\n",
        "    'id': id,\n",
        "    'Premium Amount': y_pred\n",
        "})\n",
        "\n",
        "# Save the submission DataFrame to a CSV file\n",
        "submission_df.to_csv('submission_file.csv', index=False)\n",
        "print(\"Submission file created: submission_file.csv\")"
      ],
      "metadata": {
        "id": "HrelEEFJpjzI",
        "colab": {
          "base_uri": "https://localhost:8080/"
        },
        "outputId": "5740b208-87ea-4408-9f8a-8538a93b9603"
      },
      "execution_count": 314,
      "outputs": [
        {
          "output_type": "stream",
          "name": "stdout",
          "text": [
            "Submission file created: submission_file.csv\n"
          ]
        }
      ]
    },
    {
      "cell_type": "code",
      "source": [
        "submission_df.info()"
      ],
      "metadata": {
        "colab": {
          "base_uri": "https://localhost:8080/"
        },
        "id": "Z_LcslOsFDNa",
        "outputId": "c8ef945f-cf1a-44b5-9c9c-72c8e648499b"
      },
      "execution_count": 305,
      "outputs": [
        {
          "output_type": "stream",
          "name": "stdout",
          "text": [
            "<class 'pandas.core.frame.DataFrame'>\n",
            "RangeIndex: 800000 entries, 0 to 799999\n",
            "Data columns (total 2 columns):\n",
            " #   Column          Non-Null Count   Dtype  \n",
            "---  ------          --------------   -----  \n",
            " 0   id              800000 non-null  float64\n",
            " 1   Premium Amount  800000 non-null  float32\n",
            "dtypes: float32(1), float64(1)\n",
            "memory usage: 9.2 MB\n"
          ]
        }
      ]
    }
  ],
  "metadata": {
    "colab": {
      "provenance": [],
      "gpuType": "T4"
    },
    "kernelspec": {
      "display_name": "Python 3",
      "name": "python3"
    },
    "language_info": {
      "name": "python",
      "version": "3.12.4"
    },
    "accelerator": "GPU"
  },
  "nbformat": 4,
  "nbformat_minor": 0
}